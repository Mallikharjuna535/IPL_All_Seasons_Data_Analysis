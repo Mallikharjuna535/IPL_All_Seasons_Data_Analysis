{
 "cells": [
  {
   "cell_type": "code",
   "execution_count": 2,
   "metadata": {},
   "outputs": [
    {
     "name": "stdout",
     "output_type": "stream",
     "text": [
      "[2, 3, 5, 8, 13, 21, 34, 55, 89, 144]\n"
     ]
    }
   ],
   "source": [
    "##my code for testing to print Fibbonoci series\n",
    "\n",
    "def fibonocci_series(a,b,n):\n",
    "    lst =[]\n",
    "    first = a\n",
    "    second = b\n",
    "    for _ in range(n):\n",
    "        lst.append(first)\n",
    "        first, second = second, first + second\n",
    "    return lst\n",
    "\n",
    "print(fibonocci_series(2,3,10))\n"
   ]
  },
  {
   "cell_type": "code",
   "execution_count": null,
   "metadata": {},
   "outputs": [
    {
     "name": "stdout",
     "output_type": "stream",
     "text": [
      "15\n"
     ]
    }
   ],
   "source": [
    "##my code for testing to print Fibbonoci of a number\n",
    "\n",
    "def fibbonoci(n):\n",
    "    if n==0:\n",
    "        return 0\n",
    "    else:\n",
    "        return n + fibbonoci(n-1)\n",
    "\n",
    "print(fibbonoci(5))\n"
   ]
  },
  {
   "cell_type": "code",
   "execution_count": 68,
   "metadata": {},
   "outputs": [],
   "source": [
    "import numpy as np"
   ]
  },
  {
   "cell_type": "code",
   "execution_count": 69,
   "metadata": {},
   "outputs": [],
   "source": [
    "import pandas as pd"
   ]
  },
  {
   "cell_type": "code",
   "execution_count": 70,
   "metadata": {},
   "outputs": [
    {
     "data": {
      "text/html": [
       "<div>\n",
       "<style scoped>\n",
       "    .dataframe tbody tr th:only-of-type {\n",
       "        vertical-align: middle;\n",
       "    }\n",
       "\n",
       "    .dataframe tbody tr th {\n",
       "        vertical-align: top;\n",
       "    }\n",
       "\n",
       "    .dataframe thead th {\n",
       "        text-align: right;\n",
       "    }\n",
       "</style>\n",
       "<table border=\"1\" class=\"dataframe\">\n",
       "  <thead>\n",
       "    <tr style=\"text-align: right;\">\n",
       "      <th></th>\n",
       "      <th>id</th>\n",
       "      <th>season</th>\n",
       "      <th>city</th>\n",
       "      <th>date</th>\n",
       "      <th>match_type</th>\n",
       "      <th>player_of_match</th>\n",
       "      <th>venue</th>\n",
       "      <th>team1</th>\n",
       "      <th>team2</th>\n",
       "      <th>toss_winner</th>\n",
       "      <th>toss_decision</th>\n",
       "      <th>winner</th>\n",
       "      <th>result</th>\n",
       "      <th>result_margin</th>\n",
       "      <th>target_runs</th>\n",
       "      <th>target_overs</th>\n",
       "      <th>super_over</th>\n",
       "      <th>method</th>\n",
       "      <th>umpire1</th>\n",
       "      <th>umpire2</th>\n",
       "    </tr>\n",
       "  </thead>\n",
       "  <tbody>\n",
       "    <tr>\n",
       "      <th>0</th>\n",
       "      <td>335982</td>\n",
       "      <td>2008</td>\n",
       "      <td>Bangalore</td>\n",
       "      <td>4/18/2008</td>\n",
       "      <td>League</td>\n",
       "      <td>BB McCullum</td>\n",
       "      <td>M Chinnaswamy Stadium</td>\n",
       "      <td>Royal Challengers Bengaluru</td>\n",
       "      <td>Kolkata Knight Riders</td>\n",
       "      <td>Royal Challengers Bengaluru</td>\n",
       "      <td>field</td>\n",
       "      <td>Kolkata Knight Riders</td>\n",
       "      <td>runs</td>\n",
       "      <td>140</td>\n",
       "      <td>223</td>\n",
       "      <td>20.0</td>\n",
       "      <td>N</td>\n",
       "      <td>NaN</td>\n",
       "      <td>Asad Rauf</td>\n",
       "      <td>RE Koertzen</td>\n",
       "    </tr>\n",
       "    <tr>\n",
       "      <th>1</th>\n",
       "      <td>335983</td>\n",
       "      <td>2008</td>\n",
       "      <td>Chandigarh</td>\n",
       "      <td>4/19/2008</td>\n",
       "      <td>League</td>\n",
       "      <td>MEK Hussey</td>\n",
       "      <td>Punjab Cricket Association Stadium, Mohali</td>\n",
       "      <td>Kings XI Punjab</td>\n",
       "      <td>Chennai Super Kings</td>\n",
       "      <td>Chennai Super Kings</td>\n",
       "      <td>bat</td>\n",
       "      <td>Chennai Super Kings</td>\n",
       "      <td>runs</td>\n",
       "      <td>33</td>\n",
       "      <td>241</td>\n",
       "      <td>20.0</td>\n",
       "      <td>N</td>\n",
       "      <td>NaN</td>\n",
       "      <td>MR Benson</td>\n",
       "      <td>SL Shastri</td>\n",
       "    </tr>\n",
       "    <tr>\n",
       "      <th>2</th>\n",
       "      <td>335984</td>\n",
       "      <td>2008</td>\n",
       "      <td>Delhi</td>\n",
       "      <td>4/19/2008</td>\n",
       "      <td>League</td>\n",
       "      <td>MF Maharoof</td>\n",
       "      <td>Feroz Shah Kotla</td>\n",
       "      <td>Delhi Capitals</td>\n",
       "      <td>Rajasthan Royals</td>\n",
       "      <td>Rajasthan Royals</td>\n",
       "      <td>bat</td>\n",
       "      <td>Delhi Capitals</td>\n",
       "      <td>wickets</td>\n",
       "      <td>9</td>\n",
       "      <td>130</td>\n",
       "      <td>20.0</td>\n",
       "      <td>N</td>\n",
       "      <td>NaN</td>\n",
       "      <td>Aleem Dar</td>\n",
       "      <td>GA Pratapkumar</td>\n",
       "    </tr>\n",
       "    <tr>\n",
       "      <th>3</th>\n",
       "      <td>335985</td>\n",
       "      <td>2008</td>\n",
       "      <td>Mumbai</td>\n",
       "      <td>4/20/2008</td>\n",
       "      <td>League</td>\n",
       "      <td>MV Boucher</td>\n",
       "      <td>Wankhede Stadium</td>\n",
       "      <td>Mumbai Indians</td>\n",
       "      <td>Royal Challengers Bengaluru</td>\n",
       "      <td>Mumbai Indians</td>\n",
       "      <td>bat</td>\n",
       "      <td>Royal Challengers Bengaluru</td>\n",
       "      <td>wickets</td>\n",
       "      <td>5</td>\n",
       "      <td>166</td>\n",
       "      <td>20.0</td>\n",
       "      <td>N</td>\n",
       "      <td>NaN</td>\n",
       "      <td>SJ Davis</td>\n",
       "      <td>DJ Harper</td>\n",
       "    </tr>\n",
       "    <tr>\n",
       "      <th>4</th>\n",
       "      <td>335986</td>\n",
       "      <td>2008</td>\n",
       "      <td>Kolkata</td>\n",
       "      <td>4/20/2008</td>\n",
       "      <td>League</td>\n",
       "      <td>DJ Hussey</td>\n",
       "      <td>Eden Gardens</td>\n",
       "      <td>Kolkata Knight Riders</td>\n",
       "      <td>Deccan Chargers</td>\n",
       "      <td>Deccan Chargers</td>\n",
       "      <td>bat</td>\n",
       "      <td>Kolkata Knight Riders</td>\n",
       "      <td>wickets</td>\n",
       "      <td>5</td>\n",
       "      <td>111</td>\n",
       "      <td>20.0</td>\n",
       "      <td>N</td>\n",
       "      <td>NaN</td>\n",
       "      <td>BF Bowden</td>\n",
       "      <td>K Hariharan</td>\n",
       "    </tr>\n",
       "  </tbody>\n",
       "</table>\n",
       "</div>"
      ],
      "text/plain": [
       "       id  season        city       date match_type player_of_match  \\\n",
       "0  335982    2008   Bangalore  4/18/2008     League     BB McCullum   \n",
       "1  335983    2008  Chandigarh  4/19/2008     League      MEK Hussey   \n",
       "2  335984    2008       Delhi  4/19/2008     League     MF Maharoof   \n",
       "3  335985    2008      Mumbai  4/20/2008     League      MV Boucher   \n",
       "4  335986    2008     Kolkata  4/20/2008     League       DJ Hussey   \n",
       "\n",
       "                                        venue                        team1  \\\n",
       "0                       M Chinnaswamy Stadium  Royal Challengers Bengaluru   \n",
       "1  Punjab Cricket Association Stadium, Mohali              Kings XI Punjab   \n",
       "2                            Feroz Shah Kotla               Delhi Capitals   \n",
       "3                            Wankhede Stadium               Mumbai Indians   \n",
       "4                                Eden Gardens        Kolkata Knight Riders   \n",
       "\n",
       "                         team2                  toss_winner toss_decision  \\\n",
       "0        Kolkata Knight Riders  Royal Challengers Bengaluru         field   \n",
       "1          Chennai Super Kings          Chennai Super Kings           bat   \n",
       "2             Rajasthan Royals             Rajasthan Royals           bat   \n",
       "3  Royal Challengers Bengaluru               Mumbai Indians           bat   \n",
       "4              Deccan Chargers              Deccan Chargers           bat   \n",
       "\n",
       "                        winner   result  result_margin  target_runs  \\\n",
       "0        Kolkata Knight Riders     runs            140          223   \n",
       "1          Chennai Super Kings     runs             33          241   \n",
       "2               Delhi Capitals  wickets              9          130   \n",
       "3  Royal Challengers Bengaluru  wickets              5          166   \n",
       "4        Kolkata Knight Riders  wickets              5          111   \n",
       "\n",
       "   target_overs super_over method    umpire1         umpire2  \n",
       "0          20.0          N    NaN  Asad Rauf     RE Koertzen  \n",
       "1          20.0          N    NaN  MR Benson      SL Shastri  \n",
       "2          20.0          N    NaN  Aleem Dar  GA Pratapkumar  \n",
       "3          20.0          N    NaN   SJ Davis       DJ Harper  \n",
       "4          20.0          N    NaN  BF Bowden     K Hariharan  "
      ]
     },
     "execution_count": 70,
     "metadata": {},
     "output_type": "execute_result"
    }
   ],
   "source": [
    "df = pd.read_csv('matches.csv')\n",
    "df.head()"
   ]
  },
  {
   "cell_type": "code",
   "execution_count": 71,
   "metadata": {},
   "outputs": [
    {
     "data": {
      "text/html": [
       "<div>\n",
       "<style scoped>\n",
       "    .dataframe tbody tr th:only-of-type {\n",
       "        vertical-align: middle;\n",
       "    }\n",
       "\n",
       "    .dataframe tbody tr th {\n",
       "        vertical-align: top;\n",
       "    }\n",
       "\n",
       "    .dataframe thead th {\n",
       "        text-align: right;\n",
       "    }\n",
       "</style>\n",
       "<table border=\"1\" class=\"dataframe\">\n",
       "  <thead>\n",
       "    <tr style=\"text-align: right;\">\n",
       "      <th></th>\n",
       "      <th>id</th>\n",
       "      <th>season</th>\n",
       "      <th>city</th>\n",
       "      <th>date</th>\n",
       "      <th>match_type</th>\n",
       "      <th>player_of_match</th>\n",
       "      <th>venue</th>\n",
       "      <th>team1</th>\n",
       "      <th>team2</th>\n",
       "      <th>toss_winner</th>\n",
       "      <th>toss_decision</th>\n",
       "      <th>winner</th>\n",
       "      <th>result</th>\n",
       "      <th>result_margin</th>\n",
       "      <th>target_runs</th>\n",
       "      <th>target_overs</th>\n",
       "      <th>super_over</th>\n",
       "      <th>method</th>\n",
       "      <th>umpire1</th>\n",
       "      <th>umpire2</th>\n",
       "    </tr>\n",
       "  </thead>\n",
       "  <tbody>\n",
       "    <tr>\n",
       "      <th>1090</th>\n",
       "      <td>1426307</td>\n",
       "      <td>2024</td>\n",
       "      <td>Hyderabad</td>\n",
       "      <td>5/19/2024</td>\n",
       "      <td>League</td>\n",
       "      <td>Abhishek Sharma</td>\n",
       "      <td>Rajiv Gandhi International Stadium, Uppal, Hyd...</td>\n",
       "      <td>Punjab Kings</td>\n",
       "      <td>Sunrisers Hyderabad</td>\n",
       "      <td>Punjab Kings</td>\n",
       "      <td>bat</td>\n",
       "      <td>Sunrisers Hyderabad</td>\n",
       "      <td>wickets</td>\n",
       "      <td>4</td>\n",
       "      <td>215</td>\n",
       "      <td>20.0</td>\n",
       "      <td>N</td>\n",
       "      <td>NaN</td>\n",
       "      <td>Nitin Menon</td>\n",
       "      <td>VK Sharma</td>\n",
       "    </tr>\n",
       "    <tr>\n",
       "      <th>1091</th>\n",
       "      <td>1426309</td>\n",
       "      <td>2024</td>\n",
       "      <td>Ahmedabad</td>\n",
       "      <td>5/21/2024</td>\n",
       "      <td>Qualifier 1</td>\n",
       "      <td>MA Starc</td>\n",
       "      <td>Narendra Modi Stadium, Ahmedabad</td>\n",
       "      <td>Sunrisers Hyderabad</td>\n",
       "      <td>Kolkata Knight Riders</td>\n",
       "      <td>Sunrisers Hyderabad</td>\n",
       "      <td>bat</td>\n",
       "      <td>Kolkata Knight Riders</td>\n",
       "      <td>wickets</td>\n",
       "      <td>8</td>\n",
       "      <td>160</td>\n",
       "      <td>20.0</td>\n",
       "      <td>N</td>\n",
       "      <td>NaN</td>\n",
       "      <td>AK Chaudhary</td>\n",
       "      <td>R Pandit</td>\n",
       "    </tr>\n",
       "    <tr>\n",
       "      <th>1092</th>\n",
       "      <td>1426310</td>\n",
       "      <td>2024</td>\n",
       "      <td>Ahmedabad</td>\n",
       "      <td>5/22/2024</td>\n",
       "      <td>Eliminator</td>\n",
       "      <td>R Ashwin</td>\n",
       "      <td>Narendra Modi Stadium, Ahmedabad</td>\n",
       "      <td>Royal Challengers Bengaluru</td>\n",
       "      <td>Rajasthan Royals</td>\n",
       "      <td>Rajasthan Royals</td>\n",
       "      <td>field</td>\n",
       "      <td>Rajasthan Royals</td>\n",
       "      <td>wickets</td>\n",
       "      <td>4</td>\n",
       "      <td>173</td>\n",
       "      <td>20.0</td>\n",
       "      <td>N</td>\n",
       "      <td>NaN</td>\n",
       "      <td>KN Ananthapadmanabhan</td>\n",
       "      <td>MV Saidharshan Kumar</td>\n",
       "    </tr>\n",
       "    <tr>\n",
       "      <th>1093</th>\n",
       "      <td>1426311</td>\n",
       "      <td>2024</td>\n",
       "      <td>Chennai</td>\n",
       "      <td>5/24/2024</td>\n",
       "      <td>Qualifier 2</td>\n",
       "      <td>Shahbaz Ahmed</td>\n",
       "      <td>MA Chidambaram Stadium, Chepauk, Chennai</td>\n",
       "      <td>Sunrisers Hyderabad</td>\n",
       "      <td>Rajasthan Royals</td>\n",
       "      <td>Rajasthan Royals</td>\n",
       "      <td>field</td>\n",
       "      <td>Sunrisers Hyderabad</td>\n",
       "      <td>runs</td>\n",
       "      <td>36</td>\n",
       "      <td>176</td>\n",
       "      <td>20.0</td>\n",
       "      <td>N</td>\n",
       "      <td>NaN</td>\n",
       "      <td>Nitin Menon</td>\n",
       "      <td>VK Sharma</td>\n",
       "    </tr>\n",
       "    <tr>\n",
       "      <th>1094</th>\n",
       "      <td>1426312</td>\n",
       "      <td>2024</td>\n",
       "      <td>Chennai</td>\n",
       "      <td>5/26/2024</td>\n",
       "      <td>Final</td>\n",
       "      <td>MA Starc</td>\n",
       "      <td>MA Chidambaram Stadium, Chepauk, Chennai</td>\n",
       "      <td>Sunrisers Hyderabad</td>\n",
       "      <td>Kolkata Knight Riders</td>\n",
       "      <td>Sunrisers Hyderabad</td>\n",
       "      <td>bat</td>\n",
       "      <td>Kolkata Knight Riders</td>\n",
       "      <td>wickets</td>\n",
       "      <td>8</td>\n",
       "      <td>114</td>\n",
       "      <td>20.0</td>\n",
       "      <td>N</td>\n",
       "      <td>NaN</td>\n",
       "      <td>J Madanagopal</td>\n",
       "      <td>Nitin Menon</td>\n",
       "    </tr>\n",
       "  </tbody>\n",
       "</table>\n",
       "</div>"
      ],
      "text/plain": [
       "           id  season       city       date   match_type  player_of_match  \\\n",
       "1090  1426307    2024  Hyderabad  5/19/2024       League  Abhishek Sharma   \n",
       "1091  1426309    2024  Ahmedabad  5/21/2024  Qualifier 1         MA Starc   \n",
       "1092  1426310    2024  Ahmedabad  5/22/2024   Eliminator         R Ashwin   \n",
       "1093  1426311    2024    Chennai  5/24/2024  Qualifier 2    Shahbaz Ahmed   \n",
       "1094  1426312    2024    Chennai  5/26/2024        Final         MA Starc   \n",
       "\n",
       "                                                  venue  \\\n",
       "1090  Rajiv Gandhi International Stadium, Uppal, Hyd...   \n",
       "1091                   Narendra Modi Stadium, Ahmedabad   \n",
       "1092                   Narendra Modi Stadium, Ahmedabad   \n",
       "1093           MA Chidambaram Stadium, Chepauk, Chennai   \n",
       "1094           MA Chidambaram Stadium, Chepauk, Chennai   \n",
       "\n",
       "                            team1                  team2          toss_winner  \\\n",
       "1090                 Punjab Kings    Sunrisers Hyderabad         Punjab Kings   \n",
       "1091          Sunrisers Hyderabad  Kolkata Knight Riders  Sunrisers Hyderabad   \n",
       "1092  Royal Challengers Bengaluru       Rajasthan Royals     Rajasthan Royals   \n",
       "1093          Sunrisers Hyderabad       Rajasthan Royals     Rajasthan Royals   \n",
       "1094          Sunrisers Hyderabad  Kolkata Knight Riders  Sunrisers Hyderabad   \n",
       "\n",
       "     toss_decision                 winner   result  result_margin  \\\n",
       "1090           bat    Sunrisers Hyderabad  wickets              4   \n",
       "1091           bat  Kolkata Knight Riders  wickets              8   \n",
       "1092         field       Rajasthan Royals  wickets              4   \n",
       "1093         field    Sunrisers Hyderabad     runs             36   \n",
       "1094           bat  Kolkata Knight Riders  wickets              8   \n",
       "\n",
       "      target_runs  target_overs super_over method                umpire1  \\\n",
       "1090          215          20.0          N    NaN            Nitin Menon   \n",
       "1091          160          20.0          N    NaN           AK Chaudhary   \n",
       "1092          173          20.0          N    NaN  KN Ananthapadmanabhan   \n",
       "1093          176          20.0          N    NaN            Nitin Menon   \n",
       "1094          114          20.0          N    NaN          J Madanagopal   \n",
       "\n",
       "                   umpire2  \n",
       "1090             VK Sharma  \n",
       "1091              R Pandit  \n",
       "1092  MV Saidharshan Kumar  \n",
       "1093             VK Sharma  \n",
       "1094           Nitin Menon  "
      ]
     },
     "execution_count": 71,
     "metadata": {},
     "output_type": "execute_result"
    }
   ],
   "source": [
    "df.tail()"
   ]
  },
  {
   "cell_type": "code",
   "execution_count": 9,
   "metadata": {},
   "outputs": [
    {
     "name": "stdout",
     "output_type": "stream",
     "text": [
      "<class 'pandas.core.frame.DataFrame'>\n",
      "RangeIndex: 1095 entries, 0 to 1094\n",
      "Data columns (total 20 columns):\n",
      " #   Column           Non-Null Count  Dtype  \n",
      "---  ------           --------------  -----  \n",
      " 0   id               1095 non-null   int64  \n",
      " 1   season           1095 non-null   int64  \n",
      " 2   city             1044 non-null   object \n",
      " 3   date             1095 non-null   object \n",
      " 4   match_type       1095 non-null   object \n",
      " 5   player_of_match  1090 non-null   object \n",
      " 6   venue            1095 non-null   object \n",
      " 7   team1            1095 non-null   object \n",
      " 8   team2            1095 non-null   object \n",
      " 9   toss_winner      1095 non-null   object \n",
      " 10  toss_decision    1095 non-null   object \n",
      " 11  winner           1090 non-null   object \n",
      " 12  result           1095 non-null   object \n",
      " 13  result_margin    1076 non-null   float64\n",
      " 14  target_runs      1092 non-null   float64\n",
      " 15  target_overs     1092 non-null   float64\n",
      " 16  super_over       1095 non-null   object \n",
      " 17  method           21 non-null     object \n",
      " 18  umpire1          1095 non-null   object \n",
      " 19  umpire2          1095 non-null   object \n",
      "dtypes: float64(3), int64(2), object(15)\n",
      "memory usage: 171.2+ KB\n"
     ]
    }
   ],
   "source": [
    "df.info()"
   ]
  },
  {
   "cell_type": "code",
   "execution_count": 72,
   "metadata": {},
   "outputs": [
    {
     "data": {
      "text/plain": [
       "id                    0\n",
       "season                0\n",
       "city                 51\n",
       "date                  0\n",
       "match_type            0\n",
       "player_of_match       5\n",
       "venue                 0\n",
       "team1                 0\n",
       "team2                 0\n",
       "toss_winner           0\n",
       "toss_decision         0\n",
       "winner                5\n",
       "result                0\n",
       "result_margin         0\n",
       "target_runs           0\n",
       "target_overs          0\n",
       "super_over            0\n",
       "method             1074\n",
       "umpire1               0\n",
       "umpire2               0\n",
       "dtype: int64"
      ]
     },
     "execution_count": 72,
     "metadata": {},
     "output_type": "execute_result"
    }
   ],
   "source": [
    "df.isnull().sum()"
   ]
  },
  {
   "cell_type": "code",
   "execution_count": 73,
   "metadata": {},
   "outputs": [],
   "source": [
    "#Implementing Arrays"
   ]
  },
  {
   "cell_type": "code",
   "execution_count": 74,
   "metadata": {},
   "outputs": [
    {
     "name": "stdout",
     "output_type": "stream",
     "text": [
      "The Total Number Of Matches Played in IPL are : 1095\n"
     ]
    }
   ],
   "source": [
    "# Calculate the total number of matches\n",
    "#Here Shape[0] returns number Of rows in the file where Shape[1] return Columns\n",
    "total_matches  = df.shape[0]\n",
    "print(f\"The Total Number Of Matches Played in IPL are : {total_matches}\")"
   ]
  },
  {
   "cell_type": "code",
   "execution_count": 82,
   "metadata": {},
   "outputs": [
    {
     "name": "stdout",
     "output_type": "stream",
     "text": [
      "City with the most matches: Mumbai\n"
     ]
    }
   ],
   "source": [
    "city_counts = df['city'].value_counts()\n",
    "\n",
    "# Find the city with the most matches\n",
    "most_matches_city = city_counts.idxmax()\n",
    "\n",
    "print(f\"City with the most matches: {most_matches_city}\")"
   ]
  },
  {
   "cell_type": "code",
   "execution_count": 83,
   "metadata": {},
   "outputs": [],
   "source": [
    "def matches_in_city(df, city_name):\n",
    "    # Filter the DataFrame for the specified city and count the matches\n",
    "    city_matches = df[df['city'] == city_name].shape[0]\n",
    "    return city_matches"
   ]
  },
  {
   "cell_type": "code",
   "execution_count": 85,
   "metadata": {},
   "outputs": [
    {
     "name": "stdout",
     "output_type": "stream",
     "text": [
      "Number of matches played in Bangalore: 65\n"
     ]
    }
   ],
   "source": [
    "city_name = input(\"Enter the city name: \")\n",
    "matches_count = matches_in_city(df, city_name)\n",
    "print(f\"Number of matches played in {city_name}: {matches_count}\")"
   ]
  },
  {
   "cell_type": "code",
   "execution_count": 75,
   "metadata": {},
   "outputs": [
    {
     "name": "stdout",
     "output_type": "stream",
     "text": [
      "Maximum target score: 288, Minimum target score: 43\n"
     ]
    }
   ],
   "source": [
    "df['target_runs'] = pd.to_numeric(df['target_runs'], errors='coerce').fillna(0)\n",
    "\n",
    "# Convert to integer\n",
    "target_runs = df['target_runs'].astype(int)\n",
    "\n",
    "# Calculate max and min\n",
    "max_target = target_runs.max()\n",
    "min_target = target_runs.min()\n",
    "\n",
    "print(f\"Maximum target score: {max_target}, Minimum target score: {min_target}\")"
   ]
  },
  {
   "cell_type": "code",
   "execution_count": 78,
   "metadata": {},
   "outputs": [
    {
     "name": "stdout",
     "output_type": "stream",
     "text": [
      "Dataset shape: (1095, 20)\n",
      "(slice(0, None, None), 12)\n"
     ]
    }
   ],
   "source": [
    "#Example \n",
    "\n",
    "try:\n",
    "    data = df.to_numpy()\n",
    "    print(\"Dataset shape:\", df.shape)\n",
    "    #Calculating Num of Matches won by wickets or by runs\n",
    "    won_by_wickets = np.sum(df[0:,12] == 'wickets')\n",
    "    won_by_runs = np.sum(df[0:,12] == 'runs')\n",
    "\n",
    "    print(f\"The Total Number Of Times Matches won By Wickets are : {won_by_wickets}\")\n",
    "    print(f\"The Total Number Of Times Matches won By Runs are : {won_by_runs}\")\n",
    "\n",
    "except Exception as EX1:\n",
    "    print(EX1)"
   ]
  },
  {
   "cell_type": "code",
   "execution_count": 79,
   "metadata": {},
   "outputs": [
    {
     "name": "stdout",
     "output_type": "stream",
     "text": [
      "season\n",
      "2008    58\n",
      "2009    57\n",
      "2010    60\n",
      "2011    73\n",
      "2012    74\n",
      "2013    76\n",
      "2014    60\n",
      "2015    59\n",
      "2016    60\n",
      "2017    59\n",
      "2018    60\n",
      "2019    60\n",
      "2020    60\n",
      "2021    60\n",
      "2022    74\n",
      "2023    74\n",
      "2024    71\n",
      "Name: count, dtype: int64\n"
     ]
    }
   ],
   "source": [
    "season_counts = df['season'].value_counts().sort_index()\n",
    "print(season_counts)"
   ]
  },
  {
   "cell_type": "code",
   "execution_count": 40,
   "metadata": {},
   "outputs": [
    {
     "name": "stdout",
     "output_type": "stream",
     "text": [
      "player_of_match\n",
      "AB de Villiers    25\n",
      "CH Gayle          22\n",
      "RG Sharma         19\n",
      "DA Warner         18\n",
      "V Kohli           18\n",
      "MS Dhoni          17\n",
      "SR Watson         16\n",
      "YK Pathan         16\n",
      "RA Jadeja         16\n",
      "AD Russell        15\n",
      "SP Narine         15\n",
      "SK Raina          14\n",
      "KA Pollard        14\n",
      "JC Buttler        13\n",
      "G Gambhir         13\n",
      "KL Rahul          13\n",
      "AM Rahane         13\n",
      "MEK Hussey        12\n",
      "A Mishra          12\n",
      "Rashid Khan       12\n",
      "Name: count, dtype: int64\n"
     ]
    }
   ],
   "source": [
    "top_players = df['player_of_match'].value_counts().head(20)\n",
    "print(top_players)"
   ]
  },
  {
   "cell_type": "code",
   "execution_count": 31,
   "metadata": {},
   "outputs": [],
   "source": [
    "def player_award_info(df, player_name):\n",
    "    \n",
    "    player_data = df[df['player_of_match'] == player_name]\n",
    "\n",
    "    if player_data.empty:\n",
    "        print(f\"No records found for player: {player_name}\")\n",
    "        return\n",
    "\n",
    "    # here Calculating the total number of awards\n",
    "    total_awards = len(player_data)\n",
    "\n",
    "    team_award_counts = player_data['winner'].value_counts().to_dict()\n",
    "\n",
    "    # Get the teams the player was part of when they won\n",
    "    teams = player_data['team1'].where(player_data['winner'] == player_data['team1']).dropna().tolist() + \\\n",
    "            player_data['team2'].where(player_data['winner'] == player_data['team2']).dropna().tolist()\n",
    "\n",
    "    # Print the details\n",
    "    print(f\"Player: {player_name}\")\n",
    "    print(f\"Total Player of the Match awards: {total_awards}\")\n",
    "    print(f\"Teams played for when winning awards: {set(teams)}\")\n",
    "    print(\"Awards per team:\")\n",
    "    for team, count in team_award_counts.items():\n",
    "        print(f\"{team}: {count}\")"
   ]
  },
  {
   "cell_type": "code",
   "execution_count": 32,
   "metadata": {},
   "outputs": [
    {
     "name": "stdout",
     "output_type": "stream",
     "text": [
      "Player: KL Rahul\n",
      "Total Player of the Match awards: 13\n",
      "Teams played for when winning awards: {'Lucknow Super Giants', 'Kings XI Punjab', 'Punjab Kings'}\n",
      "Awards per team:\n",
      "Kings XI Punjab: 7\n",
      "Punjab Kings: 3\n",
      "Lucknow Super Giants: 3\n"
     ]
    }
   ],
   "source": [
    "player_award_info(df, 'KL Rahul')"
   ]
  },
  {
   "cell_type": "code",
   "execution_count": 22,
   "metadata": {},
   "outputs": [
    {
     "name": "stdout",
     "output_type": "stream",
     "text": [
      "winner\n",
      "Chennai Super Kings            138\n",
      "Deccan Chargers                 29\n",
      "Delhi Capitals                 115\n",
      "Gujarat Lions                   13\n",
      "Gujarat Titans                  28\n",
      "Kings XI Punjab                 88\n",
      "Kochi Tuskers Kerala             6\n",
      "Kolkata Knight Riders          131\n",
      "Lucknow Super Giants            24\n",
      "Mumbai Indians                 144\n",
      "Pune Warriors                   12\n",
      "Punjab Kings                    24\n",
      "Rajasthan Royals               112\n",
      "Rising Pune Supergiant          15\n",
      "Royal Challengers Bengaluru    123\n",
      "Sunrisers Hyderabad             88\n",
      "Name: count, dtype: int64\n"
     ]
    }
   ],
   "source": [
    "team_wins = df['winner'].value_counts().sort_index()\n",
    "print(team_wins)"
   ]
  },
  {
   "cell_type": "code",
   "execution_count": 21,
   "metadata": {},
   "outputs": [
    {
     "name": "stdout",
     "output_type": "stream",
     "text": [
      "                             Seasons Played  Total Matches  Matches Won\n",
      "Chennai Super Kings                      15            238          138\n",
      "Deccan Chargers                           5             75           29\n",
      "Delhi Capitals                           17            252          115\n",
      "Gujarat Lions                             2             30           13\n",
      "Gujarat Titans                            3             45           28\n",
      "Kings XI Punjab                          13            190           88\n",
      "Kochi Tuskers Kerala                      1             14            6\n",
      "Kolkata Knight Riders                    17            251          131\n",
      "Lucknow Super Giants                      3             44           24\n",
      "Mumbai Indians                           17            261          144\n",
      "Pune Warriors                             3             46           12\n",
      "Punjab Kings                              4             56           24\n",
      "Rajasthan Royals                         14            221          112\n",
      "Rising Pune Supergiant                    2             30           15\n",
      "Royal Challengers Bengaluru              17            255          123\n",
      "Sunrisers Hyderabad                      12            182           88\n"
     ]
    }
   ],
   "source": [
    "# here calculating how many seasons each team has played\n",
    "team_season_counts = df.groupby('team1')['season'].nunique()\n",
    "\n",
    "# here Calculating the total number of matches each team played\n",
    "team_matches = df['team1'].value_counts() + df['team2'].value_counts()\n",
    "\n",
    "# here Calculating the total number of matches each team won\n",
    "team_wins = df['winner'].value_counts()\n",
    "\n",
    "# Combine all into a single DataFrame\n",
    "result = pd.DataFrame({\n",
    "    'Seasons Played': team_season_counts.sort_index(),\n",
    "    'Total Matches': team_matches,\n",
    "    'Matches Won': team_wins\n",
    "}).fillna(0).astype(int)\n",
    "\n",
    "# Print the result\n",
    "print(result)\n"
   ]
  },
  {
   "cell_type": "code",
   "execution_count": null,
   "metadata": {},
   "outputs": [],
   "source": []
  }
 ],
 "metadata": {
  "kernelspec": {
   "display_name": "base",
   "language": "python",
   "name": "python3"
  },
  "language_info": {
   "codemirror_mode": {
    "name": "ipython",
    "version": 3
   },
   "file_extension": ".py",
   "mimetype": "text/x-python",
   "name": "python",
   "nbconvert_exporter": "python",
   "pygments_lexer": "ipython3",
   "version": "3.11.5"
  }
 },
 "nbformat": 4,
 "nbformat_minor": 2
}
